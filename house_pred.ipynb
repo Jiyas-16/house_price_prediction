{
 "cells": [
  {
   "cell_type": "code",
   "execution_count": 1,
   "id": "32b622d8-440a-466b-8d5b-b173dd269945",
   "metadata": {},
   "outputs": [],
   "source": [
    "#importing the libraries \n",
    "import pandas as pd\n",
    "import numpy as np\n",
    "import matplotlib.pyplot as plt\n",
    "from sklearn.linear_model import LinearRegression\n",
    "from sklearn.preprocessing import MinMaxScaler"
   ]
  },
  {
   "cell_type": "code",
   "execution_count": 2,
   "id": "68339b0e-ff18-4e76-b3e9-d368dd63b61e",
   "metadata": {},
   "outputs": [],
   "source": [
    "House = pd.read_excel(r'C:\\Users\\Jiya Sharma\\Dropbox\\PC\\Downloads\\HousePricePrediction.xlsx')"
   ]
  },
  {
   "cell_type": "code",
   "execution_count": 3,
   "id": "170a9594-5436-43cc-8569-4e5e31120e57",
   "metadata": {},
   "outputs": [
    {
     "data": {
      "text/html": [
       "<div>\n",
       "<style scoped>\n",
       "    .dataframe tbody tr th:only-of-type {\n",
       "        vertical-align: middle;\n",
       "    }\n",
       "\n",
       "    .dataframe tbody tr th {\n",
       "        vertical-align: top;\n",
       "    }\n",
       "\n",
       "    .dataframe thead th {\n",
       "        text-align: right;\n",
       "    }\n",
       "</style>\n",
       "<table border=\"1\" class=\"dataframe\">\n",
       "  <thead>\n",
       "    <tr style=\"text-align: right;\">\n",
       "      <th></th>\n",
       "      <th>Id</th>\n",
       "      <th>SIZE</th>\n",
       "      <th>PRICE</th>\n",
       "    </tr>\n",
       "  </thead>\n",
       "  <tbody>\n",
       "    <tr>\n",
       "      <th>0</th>\n",
       "      <td>0</td>\n",
       "      <td>8450</td>\n",
       "      <td>208500.0</td>\n",
       "    </tr>\n",
       "    <tr>\n",
       "      <th>1</th>\n",
       "      <td>1</td>\n",
       "      <td>9600</td>\n",
       "      <td>181500.0</td>\n",
       "    </tr>\n",
       "    <tr>\n",
       "      <th>2</th>\n",
       "      <td>2</td>\n",
       "      <td>11250</td>\n",
       "      <td>223500.0</td>\n",
       "    </tr>\n",
       "    <tr>\n",
       "      <th>3</th>\n",
       "      <td>3</td>\n",
       "      <td>9550</td>\n",
       "      <td>140000.0</td>\n",
       "    </tr>\n",
       "    <tr>\n",
       "      <th>4</th>\n",
       "      <td>4</td>\n",
       "      <td>14260</td>\n",
       "      <td>250000.0</td>\n",
       "    </tr>\n",
       "  </tbody>\n",
       "</table>\n",
       "</div>"
      ],
      "text/plain": [
       "   Id   SIZE     PRICE\n",
       "0   0   8450  208500.0\n",
       "1   1   9600  181500.0\n",
       "2   2  11250  223500.0\n",
       "3   3   9550  140000.0\n",
       "4   4  14260  250000.0"
      ]
     },
     "execution_count": 3,
     "metadata": {},
     "output_type": "execute_result"
    }
   ],
   "source": [
    "House.head()"
   ]
  },
  {
   "cell_type": "code",
   "execution_count": 4,
   "id": "dafd9455-d6d2-4425-9820-8770233854a5",
   "metadata": {},
   "outputs": [
    {
     "name": "stdout",
     "output_type": "stream",
     "text": [
      "<class 'pandas.core.frame.DataFrame'>\n",
      "RangeIndex: 2919 entries, 0 to 2918\n",
      "Data columns (total 3 columns):\n",
      " #   Column  Non-Null Count  Dtype  \n",
      "---  ------  --------------  -----  \n",
      " 0   Id      2919 non-null   int64  \n",
      " 1   SIZE    2919 non-null   int64  \n",
      " 2   PRICE   1460 non-null   float64\n",
      "dtypes: float64(1), int64(2)\n",
      "memory usage: 68.5 KB\n"
     ]
    }
   ],
   "source": [
    "House.info() #for judging the datatype of the column data "
   ]
  },
  {
   "cell_type": "code",
   "execution_count": 5,
   "id": "42c1c988-7f7f-493d-8ba4-711385457081",
   "metadata": {},
   "outputs": [
    {
     "data": {
      "text/plain": [
       "Index(['Id', 'SIZE', 'PRICE'], dtype='object')"
      ]
     },
     "execution_count": 5,
     "metadata": {},
     "output_type": "execute_result"
    }
   ],
   "source": [
    "House.columns"
   ]
  },
  {
   "cell_type": "code",
   "execution_count": 6,
   "id": "c895356a-df97-4055-9028-e267f0ffa422",
   "metadata": {},
   "outputs": [],
   "source": [
    "X=House[['SIZE']]\n",
    "y=House['PRICE']"
   ]
  },
  {
   "cell_type": "code",
   "execution_count": 7,
   "id": "3a466562-1699-465a-8d06-ce337e8a5e70",
   "metadata": {},
   "outputs": [],
   "source": [
    "from sklearn.model_selection import train_test_split "
   ]
  },
  {
   "cell_type": "code",
   "execution_count": 8,
   "id": "a51f532f-fcc5-4098-b2a1-f33c537a35b7",
   "metadata": {},
   "outputs": [],
   "source": [
    "X_train, X_test, y_train, y_test = train_test_split(X, y, test_size=0.2,random_state = 2)"
   ]
  },
  {
   "cell_type": "code",
   "execution_count": 9,
   "id": "7df123da-34d3-47e8-ae58-9fd2e1d2e3cb",
   "metadata": {},
   "outputs": [],
   "source": [
    "y_train = y_train.dropna() #removes the rows from y_train where target values are missing (NaN)\n",
    "X_train = X_train.loc[y_train.index] #will select the rows with non-missing values\n",
    "try:\n",
    "    lm = LinearRegression()\n",
    "    lm.fit(X_train, y_train)\n",
    "except Exception as e:\n",
    "    print(f\"An error occurred: {e}\") #here the error occured of the target variable y_train having missing values\n"
   ]
  },
  {
   "cell_type": "code",
   "execution_count": 10,
   "id": "42cebacb-8bab-4680-a550-022ce596fae5",
   "metadata": {},
   "outputs": [],
   "source": [
    "coeff_df=pd.DataFrame(lm.coef_,X.columns,columns=['Coefficient'])"
   ]
  },
  {
   "cell_type": "code",
   "execution_count": 11,
   "id": "6824a436-de1a-4bb2-aed1-367c5c2b4a4f",
   "metadata": {},
   "outputs": [
    {
     "data": {
      "text/html": [
       "<div>\n",
       "<style scoped>\n",
       "    .dataframe tbody tr th:only-of-type {\n",
       "        vertical-align: middle;\n",
       "    }\n",
       "\n",
       "    .dataframe tbody tr th {\n",
       "        vertical-align: top;\n",
       "    }\n",
       "\n",
       "    .dataframe thead th {\n",
       "        text-align: right;\n",
       "    }\n",
       "</style>\n",
       "<table border=\"1\" class=\"dataframe\">\n",
       "  <thead>\n",
       "    <tr style=\"text-align: right;\">\n",
       "      <th></th>\n",
       "      <th>Coefficient</th>\n",
       "    </tr>\n",
       "  </thead>\n",
       "  <tbody>\n",
       "    <tr>\n",
       "      <th>SIZE</th>\n",
       "      <td>2.409456</td>\n",
       "    </tr>\n",
       "  </tbody>\n",
       "</table>\n",
       "</div>"
      ],
      "text/plain": [
       "      Coefficient\n",
       "SIZE     2.409456"
      ]
     },
     "execution_count": 11,
     "metadata": {},
     "output_type": "execute_result"
    }
   ],
   "source": [
    "coeff_df #this means that the price is going to increase by 1  then the size increases by 2.409456 when other features like iD are constant"
   ]
  },
  {
   "cell_type": "code",
   "execution_count": 12,
   "id": "c9cad71d-ebf0-48e7-8f0d-dadcb342e87d",
   "metadata": {},
   "outputs": [],
   "source": [
    "predictions = lm.predict(X_test)\n"
   ]
  },
  {
   "cell_type": "code",
   "execution_count": 13,
   "id": "7d87b5dc-e29d-463a-920f-68510617dc68",
   "metadata": {},
   "outputs": [
    {
     "data": {
      "image/png": "[encoded data removed]",
      "text/plain": [
       "<Figure size 640x480 with 1 Axes>"
      ]
     },
     "metadata": {},
     "output_type": "display_data"
    }
   ],
   "source": [
    "plt.scatter(X_test, predictions)\n",
    "plt.xlabel('SIZE')\n",
    "plt.ylabel('PRICE')\n",
    "plt.show()"
   ]
  },
  {
   "cell_type": "code",
   "execution_count": 14,
   "id": "83d5beca-fdc6-48ca-8571-6fc4dabb6dc4",
   "metadata": {},
   "outputs": [
    {
     "data": {
      "text/plain": [
       "array([2.40945585])"
      ]
     },
     "execution_count": 14,
     "metadata": {},
     "output_type": "execute_result"
    }
   ],
   "source": [
    "lm.coef_ #coefficient m"
   ]
  },
  {
   "cell_type": "code",
   "execution_count": 15,
   "id": "88be8a8b-4354-4aa2-85fd-0880004c5ffb",
   "metadata": {},
   "outputs": [
    {
     "data": {
      "text/plain": [
       "154977.78486428637"
      ]
     },
     "execution_count": 15,
     "metadata": {},
     "output_type": "execute_result"
    }
   ],
   "source": [
    "lm.intercept_ #intercept c"
   ]
  },
  {
   "cell_type": "code",
   "execution_count": 16,
   "id": "e08a70da-11d4-4e40-ba7c-0d87d2c2ade3",
   "metadata": {},
   "outputs": [
    {
     "name": "stdout",
     "output_type": "stream",
     "text": [
      "160519.53331241733\n"
     ]
    },
    {
     "name": "stderr",
     "output_type": "stream",
     "text": [
      "C:\\Users\\Jiya Sharma\\AppData\\Local\\Programs\\Python\\Python39\\lib\\site-packages\\sklearn\\base.py:465: UserWarning: X does not have valid feature names, but LinearRegression was fitted with feature names\n",
      "  warnings.warn(\n"
     ]
    }
   ],
   "source": [
    "sample = np.array([[2300]])\n",
    "prediction_new = lm.predict(sample)\n",
    "print(prediction_new[0])"
   ]
  },
  {
   "cell_type": "code",
   "execution_count": 18,
   "id": "1903252b-e71f-42bf-b6c1-b89093e7b2ea",
   "metadata": {},
   "outputs": [
    {
     "data": {
      "text/plain": [
       "160519.53331928636"
      ]
     },
     "execution_count": 18,
     "metadata": {},
     "output_type": "execute_result"
    }
   ],
   "source": [
    "2.40945585*2300 + 154977.78486428637 #for checking if the predicted value is correct or not using y=m*x+c\n"
   ]
  },
  {
   "cell_type": "code",
   "execution_count": null,
   "id": "92107abb-c17b-489e-a3ea-0d6a1ed935bc",
   "metadata": {},
   "outputs": [],
   "source": []
  }
 ],
 "metadata": {
  "kernelspec": {
   "display_name": "Python 3 (ipykernel)",
   "language": "python",
   "name": "python3"
  },
  "language_info": {
   "codemirror_mode": {
    "name": "ipython",
    "version": 3
   },
   "file_extension": ".py",
   "mimetype": "text/x-python",
   "name": "python",
   "nbconvert_exporter": "python",
   "pygments_lexer": "ipython3",
   "version": "3.9.9"
  }
 },
 "nbformat": 4,
 "nbformat_minor": 5
}
